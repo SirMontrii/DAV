{
 "cells": [
  {
   "cell_type": "code",
   "execution_count": 8,
   "id": "ee76a11e-e865-4eff-9803-68ea5c09a897",
   "metadata": {},
   "outputs": [
    {
     "name": "stdout",
     "output_type": "stream",
     "text": [
      "Names of students who attended on both days:\n",
      "['Student 1' 'Student 3']\n",
      "\n",
      "Names of students who attended on either of the days:\n",
      "['Student 1' 'Student 2' 'Student 3' 'Student 4' 'Student 5' 'Student 6']\n",
      "\n",
      "Total number of records after row-wise merge: 8\n",
      "\n",
      "Descriptive statistics with multi-row indexes:\n",
      "                   Unnamed: 2_x                              Unnamed: 2_y  \\\n",
      "                          count mean std min 25% 50% 75% max        count   \n",
      "name      duration                                                          \n",
      "Student 1 30                0.0  NaN NaN NaN NaN NaN NaN NaN          0.0   \n",
      "Student 2 40                0.0  NaN NaN NaN NaN NaN NaN NaN          0.0   \n",
      "Student 3 50                0.0  NaN NaN NaN NaN NaN NaN NaN          0.0   \n",
      "Student 4 30                0.0  NaN NaN NaN NaN NaN NaN NaN          0.0   \n",
      "Student 5 40                0.0  NaN NaN NaN NaN NaN NaN NaN          0.0   \n",
      "Student 6 30                0.0  NaN NaN NaN NaN NaN NaN NaN          0.0   \n",
      "\n",
      "                                                 \n",
      "                   mean std min 25% 50% 75% max  \n",
      "name      duration                               \n",
      "Student 1 30        NaN NaN NaN NaN NaN NaN NaN  \n",
      "Student 2 40        NaN NaN NaN NaN NaN NaN NaN  \n",
      "Student 3 50        NaN NaN NaN NaN NaN NaN NaN  \n",
      "Student 4 30        NaN NaN NaN NaN NaN NaN NaN  \n",
      "Student 5 40        NaN NaN NaN NaN NaN NaN NaN  \n",
      "Student 6 30        NaN NaN NaN NaN NaN NaN NaN  \n"
     ]
    }
   ],
   "source": [
    "import pandas as pd\n",
    "\n",
    "# Load data from Excel files\n",
    "file_path_day1 = \"attendance_day1.xlsx\"\n",
    "file_path_day2 = \"attendance_day2.xlsx\"\n",
    "\n",
    "df_day1 = pd.read_excel(r\"C:\\Users\\taman\\OneDrive\\Desktop\\DAV\\attendance_day1.xlsx\")\n",
    "df_day2 = pd.read_excel(r\"C:\\Users\\taman\\OneDrive\\Desktop\\DAV\\attendance_day2.xlsx\")\n",
    "\n",
    "# a. Merge to find names of students who attended on both days\n",
    "both_days_attendance = pd.merge(df_day1, df_day2, on=\"name\", how=\"inner\")\n",
    "\n",
    "# b. Names of students who attended on either of the days\n",
    "either_day_attendance = pd.merge(df_day1, df_day2, on=\"name\", how=\"outer\")\n",
    "\n",
    "# c. Merge row-wise and find the total number of records\n",
    "total_records = pd.concat([df_day1, df_day2], ignore_index=True)\n",
    "\n",
    "# d. Merge and use two columns as multi-row indexes, then generate descriptive statistics\n",
    "merged_multi_index = pd.merge(df_day1, df_day2, on=[\"name\", \"duration\"], how=\"outer\").set_index([\"name\", \"duration\"])\n",
    "descriptive_stats_multi_index = merged_multi_index.groupby([\"name\", \"duration\"]).describe()\n",
    "\n",
    "# Display results or perform further analysis as needed\n",
    "print(\"Names of students who attended on both days:\")\n",
    "print(both_days_attendance[\"name\"].unique())\n",
    "\n",
    "print(\"\\nNames of students who attended on either of the days:\")\n",
    "print(either_day_attendance[\"name\"].unique())\n",
    "\n",
    "print(\"\\nTotal number of records after row-wise merge:\", len(total_records))\n",
    "\n",
    "print(\"\\nDescriptive statistics with multi-row indexes:\")\n",
    "print(descriptive_stats_multi_index)"
   ]
  },
  {
   "cell_type": "code",
   "execution_count": null,
   "id": "9133598b-9b8b-44eb-b896-2d03b5aff7cd",
   "metadata": {},
   "outputs": [],
   "source": []
  },
  {
   "cell_type": "code",
   "execution_count": null,
   "id": "8f07f41c-47a4-476a-b465-876163bbffe5",
   "metadata": {},
   "outputs": [],
   "source": []
  }
 ],
 "metadata": {
  "kernelspec": {
   "display_name": "Python 3 (ipykernel)",
   "language": "python",
   "name": "python3"
  },
  "language_info": {
   "codemirror_mode": {
    "name": "ipython",
    "version": 3
   },
   "file_extension": ".py",
   "mimetype": "text/x-python",
   "name": "python",
   "nbconvert_exporter": "python",
   "pygments_lexer": "ipython3",
   "version": "3.11.4"
  }
 },
 "nbformat": 4,
 "nbformat_minor": 5
}
