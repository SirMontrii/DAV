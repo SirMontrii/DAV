{
 "cells": [
  {
   "cell_type": "markdown",
   "id": "d4cf9488",
   "metadata": {},
   "source": [
    "Write a program in Python using Pandas to perform the following:\n",
    "a. Calculate and display familywise gross monthly income.\n",
    "b. Display the highest and lowest monthly income for each family name\n",
    "c. Calculate and display monthly income of all members earning income less than Rs. 80000.00.\n",
    "d. Display total number of females along with their average monthly income\n",
    "e. Delete rows with Monthly income less than the average income of all members"
   ]
  },
  {
   "cell_type": "code",
   "execution_count": 1,
   "id": "a7398454",
   "metadata": {},
   "outputs": [
    {
     "name": "stdout",
     "output_type": "stream",
     "text": [
      "A. Familywise Gross Monthly Income:\n",
      "FamilyName\n",
      "Kumar    250530.0\n",
      "Shah     211400.0\n",
      "Vats     435050.0\n",
      "Name: MonthlyIncome, dtype: float64\n",
      "\n",
      "B. Highest Monthly Income:\n",
      "FamilyName\n",
      "Kumar    103000.0\n",
      "Shah     112400.0\n",
      "Vats     255000.0\n",
      "Name: MonthlyIncome, dtype: float64\n",
      "\n",
      "B. Lowest Monthly Income:\n",
      "FamilyName\n",
      "Kumar    66500.0\n",
      "Shah     44000.0\n",
      "Vats     43150.0\n",
      "Name: MonthlyIncome, dtype: float64\n",
      "\n",
      "C. Monthly Income of Members Earning Less Than Rs. 80000.00:\n",
      "0    44000.0\n",
      "1    65000.0\n",
      "2    43150.0\n",
      "3    66500.0\n",
      "6    55000.0\n",
      "9    71900.0\n",
      "Name: MonthlyIncome, dtype: float64\n",
      "\n",
      "Total number of females: 5\n",
      "Average monthly income of females: 111616.0\n",
      "\n",
      "DataFrame after deleting rows with income less than the average:\n",
      "  FamilyName  Gender  MonthlyIncome\n",
      "4       Vats  Female       255000.0\n",
      "5      Kumar    Male       103000.0\n",
      "7       Shah  Female       112400.0\n"
     ]
    }
   ],
   "source": [
    "import pandas as pd\n",
    "# Create the DataFrame\n",
    "data = {\n",
    "    'FamilyName': ['Shah', 'Vats', 'Vats', 'Kumar', 'Vats', 'Kumar', 'Shah', 'Shah', 'Kumar', 'Vats'],\n",
    "    'Gender': ['Male', 'Male', 'Female', 'Female', 'Female', 'Male', 'Male', 'Female', 'Female', 'Male'],\n",
    "    'MonthlyIncome': [44000.00, 65000.00, 43150.00, 66500.00, 255000.00, 103000.00, 55000.00, 112400.00, 81030.00, 71900.00]\n",
    "}\n",
    "\n",
    "df = pd.DataFrame(data)\n",
    "\n",
    "# A. Calculate and display familywise gross monthly income.\n",
    "familywise_income = df.groupby('FamilyName')['MonthlyIncome'].sum()\n",
    "print(\"A. Familywise Gross Monthly Income:\")\n",
    "print(familywise_income)\n",
    "print()\n",
    "\n",
    "# B. Display the highest and lowest monthly income for each family name.\n",
    "highest_income = df.groupby('FamilyName')['MonthlyIncome'].max()\n",
    "lowest_income = df.groupby('FamilyName')['MonthlyIncome'].min()\n",
    "print(\"B. Highest Monthly Income:\")\n",
    "print(highest_income)\n",
    "print(\"\\nB. Lowest Monthly Income:\")\n",
    "print(lowest_income)\n",
    "print()\n",
    "\n",
    "# C. Calculate and display monthly income of all members earning income less than Rs. 80000.00.\n",
    "income_below_80000 = df[df['MonthlyIncome'] < 80000.00]['MonthlyIncome']\n",
    "print(\"C. Monthly Income of Members Earning Less Than Rs. 80000.00:\")\n",
    "print(income_below_80000)\n",
    "print()\n",
    "\n",
    "# D. Display total number of females along with their average monthly income\n",
    "females_data = df[df['Gender'] == 'Female']\n",
    "average_monthly_income_female = females_data['MonthlyIncome'].mean()\n",
    "\n",
    "print(\"Total number of females:\", len(females_data))\n",
    "print(\"Average monthly income of females:\", average_monthly_income_female)\n",
    "\n",
    "# E. Delete rows with Monthly income less than the average income of all members\n",
    "average_monthly_income_all = df['MonthlyIncome'].mean()\n",
    "df = df[df['MonthlyIncome'] >= average_monthly_income_all]\n",
    "\n",
    "# Display the modified DataFrame\n",
    "print(\"\\nDataFrame after deleting rows with income less than the average:\")\n",
    "print(df)\n",
    "\n"
   ]
  }
 ],
 "metadata": {
  "kernelspec": {
   "display_name": "Python 3 (ipykernel)",
   "language": "python",
   "name": "python3"
  },
  "language_info": {
   "codemirror_mode": {
    "name": "ipython",
    "version": 3
   },
   "file_extension": ".py",
   "mimetype": "text/x-python",
   "name": "python",
   "nbconvert_exporter": "python",
   "pygments_lexer": "ipython3",
   "version": "3.11.4"
  }
 },
 "nbformat": 4,
 "nbformat_minor": 5
}
