{
 "cells": [
  {
   "cell_type": "code",
   "execution_count": 1,
   "id": "9abab8e5-39a3-4498-a0f9-87233403cd1f",
   "metadata": {},
   "outputs": [],
   "source": [
    "import numpy as np"
   ]
  },
  {
   "cell_type": "code",
   "execution_count": 2,
   "id": "9c9d55ba-cd7b-4dba-897e-9a6d548cb3fe",
   "metadata": {},
   "outputs": [
    {
     "name": "stdout",
     "output_type": "stream",
     "text": [
      "a. Arr1:\n",
      "[[0.90275892 0.09285054 0.66712098 0.04127659]\n",
      " [0.72453498 0.61390353 0.95505435 0.30557176]\n",
      " [0.63063191 0.8569399  0.66533841 0.01193254]]\n",
      "Mean along axis 1: [0.42600176 0.64976615 0.54121069]\n",
      "Standard Deviation along axis 1: [0.36893057 0.23374515 0.31749966]\n",
      "Variance along axis 1: [0.13610977 0.05463679 0.10080604]\n",
      "\n"
     ]
    }
   ],
   "source": [
    "arr1 = np.random.rand(3, 4)\n",
    "mean_arr1 = np.mean(arr1, axis=1)\n",
    "std_arr1 = np.std(arr1, axis=1)\n",
    "var_arr1 = np.var(arr1, axis=1)\n",
    "\n",
    "print(\"a. Arr1:\")\n",
    "print(arr1)\n",
    "print(\"Mean along axis 1:\", mean_arr1)\n",
    "print(\"Standard Deviation along axis 1:\", std_arr1)\n",
    "print(\"Variance along axis 1:\", var_arr1)\n",
    "print()"
   ]
  },
  {
   "cell_type": "code",
   "execution_count": 3,
   "id": "46b71dc5-de57-452d-9475-3509bad2a8ec",
   "metadata": {},
   "outputs": [
    {
     "name": "stdin",
     "output_type": "stream",
     "text": [
      "Enter number of rows (m):  2\n",
      "Enter number of columns (n):  2\n"
     ]
    },
    {
     "name": "stdout",
     "output_type": "stream",
     "text": [
      "b. Original Array:\n",
      "[[4 4]\n",
      " [2 7]]\n",
      "Shape: (2, 2)\n",
      "Type: <class 'numpy.ndarray'>\n",
      "Data Type: int32\n"
     ]
    },
    {
     "name": "stdin",
     "output_type": "stream",
     "text": [
      "Enter new number of columns (n):  2\n",
      "Enter new number of rows (m):  2\n"
     ]
    },
    {
     "name": "stdout",
     "output_type": "stream",
     "text": [
      "Reshaped Array:\n",
      "[[4 4]\n",
      " [2 7]]\n",
      "\n"
     ]
    }
   ],
   "source": [
    "# b. Create a 2D array, print shape, type, and data type, then reshape based on user inputs\n",
    "m = int(input(\"Enter number of rows (m): \"))\n",
    "n = int(input(\"Enter number of columns (n): \"))\n",
    "arr2 = np.random.randint(0, 10, size=(m, n))\n",
    "print(\"b. Original Array:\")\n",
    "print(arr2)\n",
    "print(\"Shape:\", arr2.shape)\n",
    "print(\"Type:\", type(arr2))\n",
    "print(\"Data Type:\", arr2.dtype)\n",
    "\n",
    "# Check if the new shape is valid\n",
    "n_new = int(input(\"Enter new number of columns (n): \"))\n",
    "m_new = int(input(\"Enter new number of rows (m): \"))\n",
    "if m * n != m_new * n_new:\n",
    "    print(\"Invalid new shape. The total number of elements must remain the same.\")\n",
    "else:\n",
    "    arr2_reshaped = np.reshape(arr2, (m_new, n_new))\n",
    "    print(\"Reshaped Array:\")\n",
    "    print(arr2_reshaped)\n",
    "    print()"
   ]
  },
  {
   "cell_type": "code",
   "execution_count": 4,
   "id": "7ccf81e4-c2d8-4bd3-8303-cbaabe4e4b7e",
   "metadata": {},
   "outputs": [
    {
     "name": "stdout",
     "output_type": "stream",
     "text": [
      "c. Array:\n",
      "[ 1.  0.  5.  0. nan  8.]\n",
      "Zero indices: [1 3]\n",
      "Non-zero indices: [0 2 4 5]\n",
      "NaN indices: [4]\n",
      "\n"
     ]
    }
   ],
   "source": [
    "# c. Test whether elements of a 1D array are zero, non-zero, and NaN, and record indices\n",
    "arr3 = np.array([1, 0, 5, 0, np.nan, 8])\n",
    "zero_indices = np.where(arr3 == 0)[0]\n",
    "nonzero_indices = np.where(arr3 != 0)[0]\n",
    "nan_indices = np.where(np.isnan(arr3))[0]\n",
    "\n",
    "print(\"c. Array:\")\n",
    "print(arr3)\n",
    "print(\"Zero indices:\", zero_indices)\n",
    "print(\"Non-zero indices:\", nonzero_indices)\n",
    "print(\"NaN indices:\", nan_indices)\n",
    "print()\n"
   ]
  },
  {
   "cell_type": "code",
   "execution_count": 5,
   "id": "7e6bc2b5-f41a-41e2-a7ef-565c696757bb",
   "metadata": {},
   "outputs": [
    {
     "name": "stdout",
     "output_type": "stream",
     "text": [
      "d. Arrays:\n",
      "Array1: [0.20643661 0.94448318 0.59018894 0.85562986 0.94378237]\n",
      "Array2: [0.40879274 0.88995506 0.25097372 0.05561573 0.20049169]\n",
      "Array3: [0.71106125 0.63443171 0.50416314 0.88866027 0.59542126]\n",
      "Array4 (Array3 - Array2): [ 0.30226851 -0.25552335  0.25318942  0.83304454  0.39492957]\n",
      "Array5 (2 * Array1): [0.41287322 1.88896636 1.18037787 1.71125973 1.88756475]\n",
      "Covariance between Array1 and Array4: -0.006480454495664835\n",
      "Correlation between Array1 and Array5: 0.9999999999999998\n",
      "\n"
     ]
    }
   ],
   "source": [
    "# d. Create three random arrays, perform operations, find Covariance and Correlation\n",
    "array1 = np.random.rand(5)\n",
    "array2 = np.random.rand(5)\n",
    "array3 = np.random.rand(5)\n",
    "\n",
    "array4 = array3 - array2\n",
    "array5 = 2 * array1\n",
    "\n",
    "covariance = np.cov(array1, array4)[0, 1]\n",
    "correlation = np.corrcoef(array1, array5)[0, 1]\n",
    "\n",
    "print(\"d. Arrays:\")\n",
    "print(\"Array1:\", array1)\n",
    "print(\"Array2:\", array2)\n",
    "print(\"Array3:\", array3)\n",
    "print(\"Array4 (Array3 - Array2):\", array4)\n",
    "print(\"Array5 (2 * Array1):\", array5)\n",
    "print(\"Covariance between Array1 and Array4:\", covariance)\n",
    "print(\"Correlation between Array1 and Array5:\", correlation)\n",
    "print()\n"
   ]
  },
  {
   "cell_type": "code",
   "execution_count": 6,
   "id": "dd53da0f-09e3-4dd6-86d7-448416d0635b",
   "metadata": {},
   "outputs": [
    {
     "name": "stdout",
     "output_type": "stream",
     "text": [
      "e. Arrays:\n",
      "Array6: [0.03099843 0.624695   0.6924307  0.5639953  0.42382855 0.66093137\n",
      " 0.53757432 0.28896824 0.87523832 0.66184512]\n",
      "Array7: [0.22748819 0.02627007 0.09265107 0.70066615 0.41118334 0.53539357\n",
      " 0.24248592 0.98785053 0.07044121 0.70552954]\n",
      "Sum of the first half of Array6: 2.335947980386977\n",
      "Product of the second half of Array7: 0.006373719381495896\n",
      "\n"
     ]
    }
   ],
   "source": [
    "# e. Create two random arrays, find sum of the first half and product of the second half\n",
    "array6 = np.random.rand(10)\n",
    "array7 = np.random.rand(10)\n",
    "\n",
    "sum_first_half = np.sum(array6[:5])\n",
    "product_second_half = np.prod(array7[5:])\n",
    "\n",
    "print(\"e. Arrays:\")\n",
    "print(\"Array6:\", array6)\n",
    "print(\"Array7:\", array7)\n",
    "print(\"Sum of the first half of Array6:\", sum_first_half)\n",
    "print(\"Product of the second half of Array7:\", product_second_half)\n",
    "print()"
   ]
  },
  {
   "cell_type": "code",
   "execution_count": 7,
   "id": "e1ff099d-99ba-4d0f-93bb-29b9312024dd",
   "metadata": {},
   "outputs": [
    {
     "name": "stdout",
     "output_type": "stream",
     "text": [
      "f. Array:\n",
      "[[0.64265201 0.92096341 0.94873189 0.20076718 0.54064431]\n",
      " [0.64338478 0.80851699 0.88941921 0.86061896 0.38540933]\n",
      " [0.74790136 0.74467331 0.0087928  0.49750615 0.52877977]\n",
      " [0.36416098 0.07516967 0.2549907  0.54765163 0.82310767]]\n",
      "Memory size of the array (in bytes): 160\n",
      "\n"
     ]
    }
   ],
   "source": [
    "# f. Create an array with random values and determine memory size\n",
    "array8 = np.random.rand(4, 5)\n",
    "memory_size = array8.nbytes\n",
    "\n",
    "print(\"f. Array:\")\n",
    "print(array8)\n",
    "print(\"Memory size of the array (in bytes):\", memory_size)\n",
    "print()\n",
    "\n"
   ]
  },
  {
   "cell_type": "code",
   "execution_count": 8,
   "id": "d7e408e1-b621-467b-b070-bcc81a32774c",
   "metadata": {},
   "outputs": [
    {
     "name": "stdout",
     "output_type": "stream",
     "text": [
      "g. Original Array:\n",
      "[[12 33 25]\n",
      " [21 65 93]\n",
      " [18 80 32]\n",
      " [79 82 65]]\n",
      "Array after swapping rows 0 and 1:\n",
      "[[21 65 93]\n",
      " [12 33 25]\n",
      " [18 80 32]\n",
      " [79 82 65]]\n",
      "Array after reversing column 2:\n",
      "[[21 65 65]\n",
      " [12 33 32]\n",
      " [18 80 25]\n",
      " [79 82 93]]\n"
     ]
    }
   ],
   "source": [
    "# g. Create a 2D array, swap rows, reverse a specified column, and store in another variable\n",
    "m_g = 4\n",
    "n_g = 3\n",
    "array9 = np.random.randint(10, 100, size=(m_g, n_g))\n",
    "print(\"g. Original Array:\")\n",
    "print(array9)\n",
    "# Swap rows 0 and 1\n",
    "array9_swapped = array9.copy()\n",
    "array9_swapped[0, :], array9_swapped[1, :] = array9_swapped[1, :], array9_swapped[0, :].copy()\n",
    "\n",
    "# Reverse column 2\n",
    "array9_reversed_column = array9_swapped.copy()\n",
    "array9_reversed_column[:, 2] = array9_reversed_column[::-1, 2]\n",
    "\n",
    "print(\"Array after swapping rows 0 and 1:\")\n",
    "print(array9_swapped)\n",
    "print(\"Array after reversing column 2:\")\n",
    "print(array9_reversed_column)"
   ]
  },
  {
   "cell_type": "code",
   "execution_count": null,
   "id": "c0df95d2-a230-4142-8be3-7fc64f417b85",
   "metadata": {},
   "outputs": [],
   "source": []
  }
 ],
 "metadata": {
  "kernelspec": {
   "display_name": "Python 3 (ipykernel)",
   "language": "python",
   "name": "python3"
  },
  "language_info": {
   "codemirror_mode": {
    "name": "ipython",
    "version": 3
   },
   "file_extension": ".py",
   "mimetype": "text/x-python",
   "name": "python",
   "nbconvert_exporter": "python",
   "pygments_lexer": "ipython3",
   "version": "3.11.1"
  }
 },
 "nbformat": 4,
 "nbformat_minor": 5
}
