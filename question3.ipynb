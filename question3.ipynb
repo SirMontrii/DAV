{
 "cells": [
  {
   "cell_type": "markdown",
   "id": "ecb1603a",
   "metadata": {},
   "source": [
    "3. Create a data frame having at least 3 columns and 50 rows to store numeric data generated using a random\n",
    "function. Replace 10% of the values by null values whose index positions are generated using random function.\n",
    "Do the following:\n",
    "a. Identify and count missing values in a data frame.\n",
    "b. Drop the column having more than 5 null values.\n",
    "c. Identify the row label having maximum of the sum of all values in a row and drop that row.\n",
    "d. Sort the data frame on the basis of the first column.\n",
    "e. Remove all duplicates from the first column.\n",
    "f. Find the correlation between first and second column and covariance between second and third\n",
    "column.\n",
    "g. Discretize the second column and create 5 bins"
   ]
  },
  {
   "cell_type": "code",
   "execution_count": 1,
   "id": "8b517f84",
   "metadata": {},
   "outputs": [
    {
     "name": "stdout",
     "output_type": "stream",
     "text": [
      "Original DataFrame:\n",
      "    Column1   Column2   Column3   Column4   Column5\n",
      "0  0.496714 -0.138264       NaN  1.523030 -0.234153\n",
      "1 -0.234137  1.579213  0.767435       NaN  0.542560\n",
      "2 -0.463418       NaN  0.241962 -1.913280 -1.724918\n",
      "3       NaN -1.012831  0.314247 -0.908024 -1.412304\n",
      "4       NaN       NaN  0.067528 -1.424748 -0.544383\n",
      "\n",
      "a. Missing Values:\n",
      "Column1    24\n",
      "Column2    27\n",
      "Column3    26\n",
      "Column4    28\n",
      "Column5    20\n",
      "dtype: int64\n",
      "\n",
      "b. DataFrame after dropping columns with more than 5 null values:\n",
      "Empty DataFrame\n",
      "Columns: []\n",
      "Index: [0, 1, 2, 3, 4]\n"
     ]
    }
   ],
   "source": [
    "import pandas as pd\n",
    "import numpy as np\n",
    "\n",
    "# Step 1: Create a dataframe with random numeric data and introduce null values\n",
    "np.random.seed(42)\n",
    "data = np.random.randn(100, 5)\n",
    "df = pd.DataFrame(data, columns=['Column1', 'Column2', 'Column3', 'Column4', 'Column5'])\n",
    "\n",
    "# Introduce null values randomly\n",
    "null_indices = np.random.choice(df.size, int(0.25 * df.size), replace=False)\n",
    "df.values.ravel()[null_indices] = np.nan\n",
    "\n",
    "# Display the dataframe\n",
    "print(\"Original DataFrame:\")\n",
    "print(df.head())\n",
    "\n",
    "# Step 2: Identify and count missing values\n",
    "missing_values = df.isnull().sum()\n",
    "print(\"\\na. Missing Values:\")\n",
    "print(missing_values)\n",
    "\n",
    "# Step 3: Drop columns with more than 5 null values\n",
    "df = df.dropna(axis=1, thresh=95)\n",
    "print(\"\\nb. DataFrame after dropping columns with more than 5 null values:\")\n",
    "print(df.head())\n",
    "\n",
    "# Step 4: Drop the row label with the maximum sum of values\n",
    "if not df.empty:\n",
    "    max_sum_row_label = df.sum(axis=1).idxmax()\n",
    "    df = df.drop(index=max_sum_row_label)\n",
    "    print(\"\\nc. DataFrame after dropping the row with the maximum sum of values:\")\n",
    "    print(df.head())\n",
    "\n",
    "# Step 5: Sort the dataframe based on the first column\n",
    "if not df.empty:\n",
    "    df = df.sort_values(by=df.columns[0])\n",
    "    print(\"\\nd. DataFrame after sorting based on the first column:\")\n",
    "    print(df.head())\n",
    "\n",
    "# Step 6: Remove duplicates from the first column\n",
    "if not df.empty:\n",
    "    df = df.drop_duplicates(subset=df.columns[0])\n",
    "    print(\"\\ne. DataFrame after removing duplicates from the first column:\")\n",
    "    print(df.head())\n"
   ]
  }
 ],
 "metadata": {
  "kernelspec": {
   "display_name": "Python 3 (ipykernel)",
   "language": "python",
   "name": "python3"
  },
  "language_info": {
   "codemirror_mode": {
    "name": "ipython",
    "version": 3
   },
   "file_extension": ".py",
   "mimetype": "text/x-python",
   "name": "python",
   "nbconvert_exporter": "python",
   "pygments_lexer": "ipython3",
   "version": "3.11.4"
  }
 },
 "nbformat": 4,
 "nbformat_minor": 5
}
